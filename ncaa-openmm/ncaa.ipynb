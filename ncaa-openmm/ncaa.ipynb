{
 "cells": [
  {
   "cell_type": "markdown",
   "id": "6e089e78",
   "metadata": {},
   "source": [
    "# Parametrizing a protein with a non-canonical amino acid for use in OpenMM\n",
    "\n",
    "This is a working notebook to prompt discussion between Dennis Della Corte and Lily Wang.\n",
    "\n",
    "It uses packages still under heavy development, namely:\n",
    "* [fragmenter](https://github.com/openforcefield/fragmenter)\n",
    "* [psiresp](https://github.com/lilyminium/psiresp)\n",
    "\n",
    "For this notebook I modify a structure of [ubiquitin](https://www.rcsb.org/structure/1UBQ) to include L-Azidohomoalanine (AHA). I replace Ile13 with Aha13.\n",
    "\n"
   ]
  },
  {
   "cell_type": "markdown",
   "id": "53ed125d",
   "metadata": {},
   "source": [
    "```\n",
    "conda env create -f environment.yml\n",
    "conda activate ncaa-openmm\n",
    "jupyter-nbextension enable nglview --py --sys-prefix\n",
    "python -m ipykernel install --user --name ncaa-openmm --display-name \"Python (ncaa-openmm)\"\n",
    "```"
   ]
  },
  {
   "cell_type": "code",
   "execution_count": 1,
   "id": "e339bbf7",
   "metadata": {
    "ExecuteTime": {
     "end_time": "2021-05-13T14:24:36.273384Z",
     "start_time": "2021-05-13T14:24:33.201526Z"
    }
   },
   "outputs": [
    {
     "name": "stderr",
     "output_type": "stream",
     "text": [
      "Warning: Unable to load toolkit 'AmberTools'. \n"
     ]
    },
    {
     "data": {
      "application/vnd.jupyter.widget-view+json": {
       "model_id": "83f898e7290f45488569646e30b22c25",
       "version_major": 2,
       "version_minor": 0
      },
      "text/plain": []
     },
     "metadata": {},
     "output_type": "display_data"
    }
   ],
   "source": [
    "# imports\n",
    "import re\n",
    "import numpy as np\n",
    "import subprocess\n",
    "from collections import defaultdict\n",
    "import itertools\n",
    "import copy\n",
    "\n",
    "# chemical stuff\n",
    "import simtk\n",
    "from simtk.openmm.app import *\n",
    "from simtk.openmm import *\n",
    "from simtk.unit import *\n",
    "from sys import stdout\n",
    "from rdkit import Chem\n",
    "import MDAnalysis as mda\n",
    "from openff.toolkit.topology import Molecule\n",
    "import nglview as nv\n",
    "\n",
    "\n",
    "# code currently in development\n",
    "import psiresp as sip"
   ]
  },
  {
   "cell_type": "markdown",
   "id": "b679d0a9",
   "metadata": {},
   "source": [
    "## Adding the amino acid into the protein"
   ]
  },
  {
   "cell_type": "markdown",
   "id": "d772f6ff",
   "metadata": {},
   "source": [
    "Ubiquitin:"
   ]
  },
  {
   "cell_type": "code",
   "execution_count": 2,
   "id": "db6c2035",
   "metadata": {
    "ExecuteTime": {
     "end_time": "2021-05-13T14:24:36.342857Z",
     "start_time": "2021-05-13T14:24:36.275974Z"
    }
   },
   "outputs": [
    {
     "data": {
      "application/vnd.jupyter.widget-view+json": {
       "model_id": "99685a080d454e3db9eaa2f938704abd",
       "version_major": 2,
       "version_minor": 0
      },
      "text/plain": [
       "NGLWidget()"
      ]
     },
     "metadata": {},
     "output_type": "display_data"
    }
   ],
   "source": [
    "nv.show_file(\"1ubq.pdb\")"
   ]
  },
  {
   "cell_type": "markdown",
   "id": "205bd89f",
   "metadata": {},
   "source": [
    "AHA:"
   ]
  },
  {
   "cell_type": "code",
   "execution_count": 3,
   "id": "78f1176c",
   "metadata": {
    "ExecuteTime": {
     "end_time": "2021-05-13T14:24:36.643169Z",
     "start_time": "2021-05-13T14:24:36.625149Z"
    }
   },
   "outputs": [
    {
     "data": {
      "image/png": "[encoded data removed]",
      "text/plain": [
       "<rdkit.Chem.rdchem.Mol at 0x7fa5b79749e0>"
      ]
     },
     "execution_count": 3,
     "metadata": {},
     "output_type": "execute_result"
    }
   ],
   "source": [
    "Chem.MolFromSmiles(\"C(CN=[N+]=[N-])C(C(=O)O)N\")"
   ]
  },
  {
   "cell_type": "code",
   "execution_count": 4,
   "id": "8e826299",
   "metadata": {
    "ExecuteTime": {
     "end_time": "2021-05-13T14:24:39.887522Z",
     "start_time": "2021-05-13T14:24:37.296386Z"
    },
    "scrolled": false
   },
   "outputs": [
    {
     "name": "stderr",
     "output_type": "stream",
     "text": [
      "/Users/lily/anaconda3/envs/ncaa-openmm/lib/python3.7/site-packages/MDAnalysis/coordinates/PDB.py:864: DeprecationWarning: Using the last letter of the segid for the chainID is now deprecated and will be changed in 2.0. In 2.0, the chainID attribute will be used if it exists, or a placeholder value.\n",
      "  \"exists, or a placeholder value.\", DeprecationWarning)\n"
     ]
    }
   ],
   "source": [
    "from MDAnalysis.analysis import align\n",
    "\n",
    "ubq = mda.Universe(\"1ubq.pdb\")  # ubiquitin from PDB, run through pdb2gmx to add Hs\n",
    "# get elements\n",
    "ubq.add_TopologyAttr(\"elements\")\n",
    "ubq.atoms.types = [re.search(r\"[A-Z]\", a.name).group() for a in ubq.atoms]\n",
    "ubq.atoms.elements = ubq.atoms.types\n",
    "ubq.atoms.guess_bonds()\n",
    "aha = mda.Universe(\"aha.mol2\")  # aha, built by hand in IQMol. I like mol2 for including bond orders\n",
    "aha.add_TopologyAttr(\"resnames\")\n",
    "aha.residues[0].resname = \"AHA\"\n",
    "aha.segments[0].segid = \"A\"\n",
    "# rename atoms for ease of reference\n",
    "aha.atoms.names = [f\"{x}{i}\" for i, x in enumerate(aha.atoms.names, 1)]\n",
    "\n",
    "# The N-CA-C=O atoms in aha are indices [0, 1, 2, 3]\n",
    "# The N-CA-C=O atoms in Ile13 are indices [203, 205, 220, 221]\n",
    "# align AHA to UBQ and replace Ile13\n",
    "align.alignto(aha.atoms[[0, 1, 2, 3]], ubq.atoms[[203, 205, 220, 221]], match_atoms=False)\n",
    "aha.residues.resids = 13\n",
    "\n",
    "ubq_aha = mda.Merge(ubq.residues[:12].atoms, aha.atoms, ubq.residues[13:].atoms)\n",
    "# add bonds connecting amino acid to those before and after\n",
    "thr12c = ubq_aha.residues[11].atoms.select_atoms(\"name C\")[0]\n",
    "aha13 = ubq_aha.residues[12].atoms\n",
    "thr14n = ubq_aha.residues[13].atoms.select_atoms(\"name N\")[0]\n",
    "bond1 = [thr12c.index, aha13.atoms[0].index]\n",
    "bond2 = [aha13.atoms[2].index, thr14n.index]\n",
    "\n",
    "ubq_aha.add_bonds([bond1, bond2])\n",
    "ubq_aha.atoms.write(\"ubq_aha.pdb\", bonds=\"all\")"
   ]
  },
  {
   "cell_type": "code",
   "execution_count": 5,
   "id": "f58852fa",
   "metadata": {
    "ExecuteTime": {
     "end_time": "2021-05-13T14:24:40.291565Z",
     "start_time": "2021-05-13T14:24:39.889746Z"
    }
   },
   "outputs": [
    {
     "data": {
      "application/vnd.jupyter.widget-view+json": {
       "model_id": "2932d89e431244fe8d9d67d67be871ea",
       "version_major": 2,
       "version_minor": 0
      },
      "text/plain": [
       "NGLWidget()"
      ]
     },
     "metadata": {},
     "output_type": "display_data"
    }
   ],
   "source": [
    "nv.show_mdanalysis(ubq_aha)"
   ]
  },
  {
   "cell_type": "markdown",
   "id": "f6b1dbc5",
   "metadata": {},
   "source": [
    "## Fail to parametrize with Amber14 in OpenMM"
   ]
  },
  {
   "cell_type": "code",
   "execution_count": 6,
   "id": "db4552f6",
   "metadata": {
    "ExecuteTime": {
     "end_time": "2021-05-13T14:24:41.902657Z",
     "start_time": "2021-05-13T14:24:41.006977Z"
    },
    "scrolled": true
   },
   "outputs": [
    {
     "ename": "ValueError",
     "evalue": "No template found for residue 13 (AHA).  The set of atoms is similar to ARG, but it is missing 9 atoms.",
     "output_type": "error",
     "traceback": [
      "\u001b[0;31m---------------------------------------------------------------------------\u001b[0m",
      "\u001b[0;31mValueError\u001b[0m                                Traceback (most recent call last)",
      "\u001b[0;32m<ipython-input-6-221015dcaad9>\u001b[0m in \u001b[0;36m<module>\u001b[0;34m\u001b[0m\n\u001b[1;32m      2\u001b[0m \u001b[0mforcefield\u001b[0m \u001b[0;34m=\u001b[0m \u001b[0mForceField\u001b[0m\u001b[0;34m(\u001b[0m\u001b[0;34m'amber14-all.xml'\u001b[0m\u001b[0;34m,\u001b[0m \u001b[0;34m'amber14/tip3pfb.xml'\u001b[0m\u001b[0;34m,\u001b[0m \u001b[0;34m\"gaff-2.11.xml\"\u001b[0m\u001b[0;34m)\u001b[0m\u001b[0;34m\u001b[0m\u001b[0;34m\u001b[0m\u001b[0m\n\u001b[1;32m      3\u001b[0m system = forcefield.createSystem(pdb.topology, nonbondedMethod=PME,\n\u001b[0;32m----> 4\u001b[0;31m         nonbondedCutoff=1*nanometer, constraints=HBonds)\n\u001b[0m",
      "\u001b[0;32m~/anaconda3/envs/ncaa-openmm/lib/python3.7/site-packages/simtk/openmm/app/forcefield.py\u001b[0m in \u001b[0;36mcreateSystem\u001b[0;34m(self, topology, nonbondedMethod, nonbondedCutoff, constraints, rigidWater, removeCMMotion, hydrogenMass, residueTemplates, ignoreExternalBonds, switchDistance, flexibleConstraints, drudeMass, **args)\u001b[0m\n\u001b[1;32m   1177\u001b[0m         \u001b[0;31m# Find the template matching each residue and assign atom types.\u001b[0m\u001b[0;34m\u001b[0m\u001b[0;34m\u001b[0m\u001b[0;34m\u001b[0m\u001b[0m\n\u001b[1;32m   1178\u001b[0m \u001b[0;34m\u001b[0m\u001b[0m\n\u001b[0;32m-> 1179\u001b[0;31m         \u001b[0mtemplateForResidue\u001b[0m \u001b[0;34m=\u001b[0m \u001b[0mself\u001b[0m\u001b[0;34m.\u001b[0m\u001b[0m_matchAllResiduesToTemplates\u001b[0m\u001b[0;34m(\u001b[0m\u001b[0mdata\u001b[0m\u001b[0;34m,\u001b[0m \u001b[0mtopology\u001b[0m\u001b[0;34m,\u001b[0m \u001b[0mresidueTemplates\u001b[0m\u001b[0;34m,\u001b[0m \u001b[0mignoreExternalBonds\u001b[0m\u001b[0;34m)\u001b[0m\u001b[0;34m\u001b[0m\u001b[0;34m\u001b[0m\u001b[0m\n\u001b[0m\u001b[1;32m   1180\u001b[0m         \u001b[0;32mfor\u001b[0m \u001b[0mres\u001b[0m \u001b[0;32min\u001b[0m \u001b[0mtopology\u001b[0m\u001b[0;34m.\u001b[0m\u001b[0mresidues\u001b[0m\u001b[0;34m(\u001b[0m\u001b[0;34m)\u001b[0m\u001b[0;34m:\u001b[0m\u001b[0;34m\u001b[0m\u001b[0;34m\u001b[0m\u001b[0m\n\u001b[1;32m   1181\u001b[0m             \u001b[0;32mif\u001b[0m \u001b[0mres\u001b[0m\u001b[0;34m.\u001b[0m\u001b[0mname\u001b[0m \u001b[0;34m==\u001b[0m \u001b[0;34m'HOH'\u001b[0m\u001b[0;34m:\u001b[0m\u001b[0;34m\u001b[0m\u001b[0;34m\u001b[0m\u001b[0m\n",
      "\u001b[0;32m~/anaconda3/envs/ncaa-openmm/lib/python3.7/site-packages/simtk/openmm/app/forcefield.py\u001b[0m in \u001b[0;36m_matchAllResiduesToTemplates\u001b[0;34m(self, data, topology, residueTemplates, ignoreExternalBonds, ignoreExtraParticles, recordParameters)\u001b[0m\n\u001b[1;32m   1391\u001b[0m                             \u001b[0;32mbreak\u001b[0m\u001b[0;34m\u001b[0m\u001b[0;34m\u001b[0m\u001b[0m\n\u001b[1;32m   1392\u001b[0m             \u001b[0;32mif\u001b[0m \u001b[0mmatches\u001b[0m \u001b[0;32mis\u001b[0m \u001b[0;32mNone\u001b[0m\u001b[0;34m:\u001b[0m\u001b[0;34m\u001b[0m\u001b[0;34m\u001b[0m\u001b[0m\n\u001b[0;32m-> 1393\u001b[0;31m                 \u001b[0;32mraise\u001b[0m \u001b[0mValueError\u001b[0m\u001b[0;34m(\u001b[0m\u001b[0;34m'No template found for residue %d (%s).  %s'\u001b[0m \u001b[0;34m%\u001b[0m \u001b[0;34m(\u001b[0m\u001b[0mres\u001b[0m\u001b[0;34m.\u001b[0m\u001b[0mindex\u001b[0m\u001b[0;34m+\u001b[0m\u001b[0;36m1\u001b[0m\u001b[0;34m,\u001b[0m \u001b[0mres\u001b[0m\u001b[0;34m.\u001b[0m\u001b[0mname\u001b[0m\u001b[0;34m,\u001b[0m \u001b[0m_findMatchErrors\u001b[0m\u001b[0;34m(\u001b[0m\u001b[0mself\u001b[0m\u001b[0;34m,\u001b[0m \u001b[0mres\u001b[0m\u001b[0;34m)\u001b[0m\u001b[0;34m)\u001b[0m\u001b[0;34m)\u001b[0m\u001b[0;34m\u001b[0m\u001b[0;34m\u001b[0m\u001b[0m\n\u001b[0m\u001b[1;32m   1394\u001b[0m             \u001b[0;32melse\u001b[0m\u001b[0;34m:\u001b[0m\u001b[0;34m\u001b[0m\u001b[0;34m\u001b[0m\u001b[0m\n\u001b[1;32m   1395\u001b[0m                 \u001b[0;32mif\u001b[0m \u001b[0mrecordParameters\u001b[0m\u001b[0;34m:\u001b[0m\u001b[0;34m\u001b[0m\u001b[0;34m\u001b[0m\u001b[0m\n",
      "\u001b[0;31mValueError\u001b[0m: No template found for residue 13 (AHA).  The set of atoms is similar to ARG, but it is missing 9 atoms."
     ]
    }
   ],
   "source": [
    "pdb = PDBFile('ubq_aha.pdb')\n",
    "forcefield = ForceField('amber14-all.xml', 'amber14/tip3pfb.xml', \"gaff-2.11.xml\")\n",
    "system = forcefield.createSystem(pdb.topology, nonbondedMethod=PME,\n",
    "        nonbondedCutoff=1*nanometer, constraints=HBonds)"
   ]
  },
  {
   "cell_type": "markdown",
   "id": "c9fff391",
   "metadata": {},
   "source": [
    "## Cap the non-canonical amino acid"
   ]
  },
  {
   "cell_type": "markdown",
   "id": "f4fa4c73",
   "metadata": {},
   "source": [
    "### Cap with adjacent amino acids"
   ]
  },
  {
   "cell_type": "code",
   "execution_count": 7,
   "id": "d1b940e8",
   "metadata": {
    "ExecuteTime": {
     "end_time": "2021-05-13T14:24:44.082373Z",
     "start_time": "2021-05-13T14:24:44.070556Z"
    }
   },
   "outputs": [],
   "source": [
    "def get_amino_acid_triplet(protein, resid=13):\n",
    "    \"\"\"Pick out the residue with the given residue number,\n",
    "    and include the adjacent amino acids\n",
    "    \n",
    "    Parameters\n",
    "    ----------\n",
    "    protein: rdkit.Chem.Mol\n",
    "    resid: int\n",
    "    \n",
    "    Returns\n",
    "    -------\n",
    "    rdkit.Chem.Mol\n",
    "    \"\"\"\n",
    "    before = resid - 1\n",
    "    after = resid + 1\n",
    "    caps = [before, after]\n",
    "    relevant = [before, resid, after]\n",
    "    rdmol = Chem.RWMol(protein)\n",
    "    to_delete = []\n",
    "    for bond in rdmol.GetBonds():\n",
    "        begin = bond.GetBeginAtom()\n",
    "        end = bond.GetEndAtom()\n",
    "        res_i = begin.GetMonomerInfo().GetResidueNumber()\n",
    "        res_j = end.GetMonomerInfo().GetResidueNumber()\n",
    "        if (res_i in caps and res_j not in relevant) or (res_j in caps and res_i not in relevant):\n",
    "            to_delete.append((begin.GetIdx(), end.GetIdx()))\n",
    "    for i, j in to_delete:\n",
    "        rdmol.RemoveBond(i, j)\n",
    "    mols = Chem.GetMolFrags(rdmol, asMols=True)\n",
    "    for frag in mols:\n",
    "        resnum = frag.GetAtomWithIdx(0).GetMonomerInfo().GetResidueNumber()\n",
    "        if resnum in relevant:\n",
    "            counter = 1\n",
    "            Chem.AssignStereochemistryFrom3D(frag)\n",
    "            for atom in frag.GetAtoms():\n",
    "                if atom.GetMonomerInfo().GetResidueNumber() == resid:\n",
    "                    atom.SetAtomMapNum(counter)\n",
    "                    counter += 1\n",
    "            Chem.SanitizeMol(frag)\n",
    "            return frag\n",
    "        "
   ]
  },
  {
   "cell_type": "code",
   "execution_count": 8,
   "id": "8e19e243",
   "metadata": {
    "ExecuteTime": {
     "end_time": "2021-05-13T14:24:44.868615Z",
     "start_time": "2021-05-13T14:24:44.862589Z"
    }
   },
   "outputs": [],
   "source": [
    "def map_mol2_onto_pdb_rdmol(rdmol, molfile, resid=13):\n",
    "    \"\"\"\n",
    "    Map the connectivity of the amino acid read in from the molfile\n",
    "    onto the given rdmol. Connectivity is changed in-place.\n",
    "    \n",
    "    As PDB files don't include bond order information,\n",
    "    RDKit tends to assume everything is a single bond.\n",
    "    \n",
    "    Parameters\n",
    "    ----------\n",
    "    rdmol: rdkit.Chem.Mol\n",
    "    molfile: str\n",
    "        Filename in the mol/2 format.\n",
    "    resid: int\n",
    "        Residue number to re-fit connectivity for.\n",
    "        \n",
    "    \"\"\"\n",
    "    bond_mapping = {\"1\": Chem.BondType.SINGLE, \"2\": Chem.BondType.DOUBLE}\n",
    "    u = mda.Universe(molfile)\n",
    "    atom_mapping = {}\n",
    "    counter = 0\n",
    "    for atom in rdmol.GetAtoms():\n",
    "        atom_resid = atom.GetMonomerInfo().GetResidueNumber()\n",
    "        if atom_resid == resid:\n",
    "            atom_mapping[counter] = atom.GetIdx()\n",
    "            counter += 1\n",
    "    for bond in u.atoms.bonds:\n",
    "        i, j = map(int, bond.indices)\n",
    "        order = bond.order\n",
    "        pdb_bond = rdmol.GetBondBetweenAtoms(atom_mapping[i], atom_mapping[j])\n",
    "        if pdb_bond is not None:\n",
    "            if order in bond_mapping:\n",
    "                pdb_bond.SetBondType(bond_mapping[order])\n",
    "    rdmol.UpdatePropertyCache(strict=False)\n",
    "    # clear up charges\n",
    "    table = Chem.GetPeriodicTable()\n",
    "    for i in atom_mapping.values():\n",
    "        atom = rdmol.GetAtomWithIdx(i)\n",
    "        expected = table.GetDefaultValence(atom.GetSymbol())\n",
    "        observed = atom.GetExplicitValence()\n",
    "        if observed != expected:\n",
    "            atom.SetFormalCharge(observed - expected)\n",
    "    Chem.SanitizeMol(rdmol)"
   ]
  },
  {
   "cell_type": "code",
   "execution_count": 9,
   "id": "eb97a333",
   "metadata": {
    "ExecuteTime": {
     "end_time": "2021-05-13T14:24:45.511682Z",
     "start_time": "2021-05-13T14:24:45.478531Z"
    }
   },
   "outputs": [
    {
     "data": {
      "image/png": "[encoded data removed]",
      "text/plain": [
       "<rdkit.Chem.rdchem.Mol at 0x7fa5bdf6b030>"
      ]
     },
     "execution_count": 9,
     "metadata": {},
     "output_type": "execute_result"
    }
   ],
   "source": [
    "protein = Chem.MolFromPDBFile(\"ubq_aha.pdb\", removeHs=False, proximityBonding=False)\n",
    "map_mol2_onto_pdb_rdmol(protein, \"aha.mol2\", resid=13)\n",
    "triplet = get_amino_acid_triplet(protein)\n",
    "triplet"
   ]
  },
  {
   "cell_type": "markdown",
   "id": "c43571dd",
   "metadata": {},
   "source": [
    "### Fragment so only relevant torsions etc are explored"
   ]
  },
  {
   "cell_type": "code",
   "execution_count": 10,
   "id": "48f1e2ff",
   "metadata": {
    "ExecuteTime": {
     "end_time": "2021-05-13T14:24:47.750596Z",
     "start_time": "2021-05-13T14:24:47.645936Z"
    }
   },
   "outputs": [],
   "source": [
    "# code still under development and liable to change\n",
    "from fragmenter.fragment import WBOFragmenter"
   ]
  },
  {
   "cell_type": "code",
   "execution_count": 11,
   "id": "162bf3e2",
   "metadata": {
    "ExecuteTime": {
     "end_time": "2021-05-13T14:24:48.386847Z",
     "start_time": "2021-05-13T14:24:48.379526Z"
    }
   },
   "outputs": [],
   "source": [
    "def fragment_molecule(fragmenter, rdmol, combine: bool=False, **kwargs):\n",
    "    \"\"\"Fragment an RDKit molecule using the fragmenter package.\n",
    "    \n",
    "    If ``combine=True``, this returns fragments by removing atoms\n",
    "    from the original ``rdmol``. This means that atom mapping is\n",
    "    conserved.\n",
    "    \n",
    "    Originally from https://github.com/lilyminium/cendol/\n",
    "    \"\"\"\n",
    "    molecule = Molecule.from_rdkit(rdmol, allow_undefined_stereo=True)\n",
    "    central = set()\n",
    "    for atom in rdmol.GetAtoms():\n",
    "        if atom.GetAtomMapNum() != 0:\n",
    "            central.add(atom.GetIdx())\n",
    "    fragger = fragmenter()\n",
    "    results = fragger.fragment(molecule)\n",
    "    fragments = []\n",
    "    for (a1, a2), oemol in results.fragments_by_bond.items():\n",
    "        if a1 in central or a2 in central:\n",
    "            fragments.append(oemol)\n",
    "    if not combine:\n",
    "        if not fragments:\n",
    "            return [rdmol]\n",
    "        mols = [x.to_rdkit() for x in fragments]\n",
    "        return mols\n",
    "    # match all fragments to original molecule\n",
    "    fragment_indices = set()\n",
    "    for oemol in fragments:\n",
    "        rdfrag = Chem.MolFromSmiles(oemol.smiles)\n",
    "        rdfrag = Chem.AddHs(rdfrag)\n",
    "        matches = rdmol.GetSubstructMatches(rdfrag)\n",
    "        for m in matches:\n",
    "            mset = set(m)\n",
    "            if mset.intersection(central):\n",
    "                fragment_indices |= mset\n",
    "    atoms_to_keep = [i for i in range(rdmol.GetNumAtoms()) if i not in fragment_indices]\n",
    "    rwmol = Chem.RWMol(rdmol)\n",
    "    for idx in atoms_to_keep[::-1]:\n",
    "        rwmol.RemoveAtom(idx)\n",
    "    rwmol.UpdatePropertyCache()\n",
    "    if not rwmol.GetNumAtoms():\n",
    "        return [rdmol]\n",
    "    Chem.SanitizeMol(rwmol)\n",
    "    return [rwmol]"
   ]
  },
  {
   "cell_type": "code",
   "execution_count": 12,
   "id": "7a2d3724",
   "metadata": {
    "ExecuteTime": {
     "end_time": "2021-05-13T14:24:54.750831Z",
     "start_time": "2021-05-13T14:24:49.080520Z"
    },
    "scrolled": true
   },
   "outputs": [
    {
     "name": "stderr",
     "output_type": "stream",
     "text": [
      "Warning (not error because allow_undefined_stereo=True): Unable to make OFFMol from RDMol: RDMol has unspecified stereochemistry. Undefined chiral centers are:\n",
      " - Atom C (index 20)\n",
      " - Atom C (index 21)\n",
      "\n",
      "Warning (not error because allow_undefined_stereo=True): OEMol has unspecified stereochemistry. oemol.GetTitle(): \n",
      "Problematic atoms are:\n",
      "Atom atomic num: 6, name: , idx: 11, aromatic: False, chiral: True with bonds:\n",
      "bond order: 1, chiral: False to atom atomic num: 6, name: , idx: 8, aromatic: False, chiral: True\n",
      "bond order: 1, chiral: False to atom atomic num: 7, name: , idx: 17, aromatic: False, chiral: False\n",
      "bond order: 1, chiral: False to atom atomic num: 8, name: , idx: 22, aromatic: False, chiral: False\n",
      "bond order: 1, chiral: False to atom atomic num: 1, name: , idx: 40, aromatic: False, chiral: False\n",
      "\n"
     ]
    }
   ],
   "source": [
    "fragmented = fragment_molecule(WBOFragmenter,  # fragment by Wiberg Bond Order\n",
    "                               triplet,  # RDKit molecule\n",
    "                               combine=True,  # we want one fragment that includes the whole amino acid\n",
    "                              )[0]  # only returns one fragment, get that"
   ]
  },
  {
   "cell_type": "markdown",
   "id": "016e78f6",
   "metadata": {},
   "source": [
    "## Fitting charges with constraints"
   ]
  },
  {
   "cell_type": "code",
   "execution_count": 13,
   "id": "8dff086a",
   "metadata": {
    "ExecuteTime": {
     "end_time": "2021-05-13T14:24:54.756245Z",
     "start_time": "2021-05-13T14:24:54.752535Z"
    }
   },
   "outputs": [],
   "source": [
    "def get_forcefield_charge(forcefield, residue_name, atom_name):\n",
    "    try:\n",
    "        template = forcefield._templates[residue_name]\n",
    "    except KeyError:\n",
    "        return None\n",
    "    for atom in template.atoms:\n",
    "        if atom.name == atom_name:\n",
    "            return atom.parameters[\"charge\"]"
   ]
  },
  {
   "cell_type": "code",
   "execution_count": 14,
   "id": "563e908b",
   "metadata": {
    "ExecuteTime": {
     "end_time": "2021-05-13T14:24:54.763255Z",
     "start_time": "2021-05-13T14:24:54.758738Z"
    }
   },
   "outputs": [],
   "source": [
    "def get_charge_constraints_from_rdmol(forcefield, topology, resname=\"AHA\", molecular_charge=0):\n",
    "    \"\"\"\n",
    "    Create charge constraints for PsiRESP from labelled RDKit molecule\n",
    "    and existing charges in the force field.\n",
    "    \n",
    "    Parameters\n",
    "    ----------\n",
    "    forcefield: simtk.openmm.app.forcefield.ForceField\n",
    "        Force field from which to obtain adjacent amino acid charges\n",
    "    topology: simtk.openmm.app.topology.Topology\n",
    "    resname: str\n",
    "        Residue name\n",
    "    molecular_charge: int (optional)\n",
    "        Charge of the entire amino acid\n",
    "    \n",
    "        \n",
    "    Returns\n",
    "    -------\n",
    "    psiresp.options.ChargeOptions\n",
    "        Charge constraints for the RESP job\n",
    "    \"\"\"\n",
    "\n",
    "    # unlabelled caps should sum to 0\n",
    "    constraints = []\n",
    "    cap_atoms = []\n",
    "    relevant_indices = []\n",
    "    for ommres in topology.residues():\n",
    "        if ommres.name != resname:\n",
    "            for atom in ommres.atoms():\n",
    "                # constrain adjacent amino acids to have same charges\n",
    "                # as in force field\n",
    "                atom_charge = get_forcefield_charge(forcefield, ommres.name, atom.name)\n",
    "                if atom_charge is not None:\n",
    "                    constraints.append([atom_charge, [atom.index + 1]])\n",
    "        else:\n",
    "            for atom in ommres.atoms():\n",
    "                relevant_indices.append(atom.index + 1)\n",
    "\n",
    "    constraints.append([molecular_charge, relevant_indices])\n",
    "    return sip.ChargeOptions(charge_constraints=constraints)"
   ]
  },
  {
   "cell_type": "code",
   "execution_count": 15,
   "id": "f6235567",
   "metadata": {
    "ExecuteTime": {
     "end_time": "2021-05-13T14:24:54.771321Z",
     "start_time": "2021-05-13T14:24:54.765552Z"
    }
   },
   "outputs": [],
   "source": [
    "def run_resp(forcefield, topology, rdmol, executor=None, n_conformers=4, resname=\"Mol\",\n",
    "             rmsd_threshold=1.5, charge=0, multiplicity=1):\n",
    "    \"\"\"\n",
    "    Run RESP with charge constraints\n",
    "    \n",
    "    Parameters\n",
    "    ----------\n",
    "    forcefield: simtk.openmm.app.forcefield.ForceField\n",
    "        Force field from which to obtain adjacent amino acid charges\n",
    "    topology: simtk.openmm.app.topology.Topology\n",
    "    rdmol: rdkit.Chem.Mol\n",
    "        The fragmented molecule for which to re-fit charges.\n",
    "    executor: multiprocessing.Executor (optional)\n",
    "        This is passed to PsiRESP for parallel processing.\n",
    "    n_conformers: int (optional)\n",
    "        Maximum number of conformers to automatically generate from the\n",
    "        RDKit molecule. The actual number may be fewer depending on the\n",
    "        RMSD threshold\n",
    "    resname: str (optional)\n",
    "        Name of the amino acid. This is also used for the job\n",
    "    rmsd_threshold: float (optional)\n",
    "        RMSD threshold for generating different conformers\n",
    "    charge: int (optional)\n",
    "        Overall molecular charge\n",
    "    multiplicity: int (optional)\n",
    "        Amino acid amino acid\n",
    "    \n",
    "        \n",
    "    Returns\n",
    "    -------\n",
    "    numpy.ndarray\n",
    "        Array of charges\n",
    "    \"\"\"\n",
    "    charge_options = get_charge_constraints_from_rdmol(forcefield, topology, resname,\n",
    "                                                       molecular_charge=charge)\n",
    "    orientation_options = sip.OrientationOptions(n_reorientations=4)\n",
    "#     print(charge_options)\n",
    "    relevant_indices = [i for i, atom in enumerate(topology.atoms())\n",
    "                        if atom.residue.name == resname]\n",
    "    resp = sip.Resp.from_rdmol(rdmol, n_confs=1, name=resname,\n",
    "                               rmsd_threshold=rmsd_threshold,\n",
    "                               charge=charge, multiplicity=multiplicity,\n",
    "                               orientation_options=orientation_options)\n",
    "    print(\"Running RESP\")\n",
    "    charges = resp.run(charge_constraint_options=charge_options, stage_2=True,\n",
    "                     hyp_a1=0.0005, hyp_a2=0.001, hyp_b=0.1,\n",
    "                     restrained=True, ihfree=True, executor=executor)\n",
    "\n",
    "    np.savetxt(\"all_charges.dat\", charges)\n",
    "    charges = resp.charges[relevant_indices]\n",
    "    return charges"
   ]
  },
  {
   "cell_type": "markdown",
   "id": "66194abc",
   "metadata": {},
   "source": [
    "## Sticking it into the force field as a residue template"
   ]
  },
  {
   "cell_type": "code",
   "execution_count": 16,
   "id": "284f6595",
   "metadata": {
    "ExecuteTime": {
     "end_time": "2021-05-13T14:24:54.783823Z",
     "start_time": "2021-05-13T14:24:54.773178Z"
    }
   },
   "outputs": [],
   "source": [
    "def run_antechamber(rdmol, name=\"mol\", antechamber_path=\"/Users/lily/amber20/bin/antechamber\"):\n",
    "    \"\"\"Run antechamber to get GAFF atom types and a mol2 file format out\"\"\"\n",
    "    pdb = f\"rdkit_{name}.pdb\"\n",
    "    mol2 = f\"ante_{name}.mol2\"\n",
    "    Chem.MolToPDBFile(rdmol, pdb)\n",
    "    print(\"Running antechamber\")\n",
    "    cmd = f\"{antechamber_path} -i {pdb} -fi pdb -o {mol2} -fo mol2 -s 2\"\n",
    "    proc = subprocess.run(cmd, shell=True, stderr=subprocess.PIPE)\n",
    "    u = mda.Universe(mol2)\n",
    "    ommtop = PDBFile(pdb).topology\n",
    "    return u, ommtop\n",
    "    \n",
    "\n",
    "def add_residue_template(rdmol, forcefield, executor=None, n_conformers=4,\n",
    "                         charges=None, resname=\"AHA\", charge=0, multiplicity=1):\n",
    "    \"\"\"\n",
    "    Add a residue template for the non-canonical amino acid into the given force field.\n",
    "    \n",
    "    The force field is modified in place.\n",
    "    \n",
    "    Steps:\n",
    "    1. Run antechamber to get GAFF atom types\n",
    "    2. Fit charges with charge constraints to get an overall charge of ``charge``\n",
    "    3. Add new atom types specifically for the new reisude and copy existing\n",
    "       force parameters from the force field, to the new atom types\n",
    "       \n",
    "    Parameters\n",
    "    ----------\n",
    "    rdmol: rdkit.Chem.Mol\n",
    "    forcefield: simtk.openmm.app.forcefield.ForceField\n",
    "        Force field to modify\n",
    "    executor: multiprocessing.Executor (optional)\n",
    "        For running RESP in parallel, not sure how this works in a notebook\n",
    "    n_conformers: int (optional)\n",
    "        Max conformers to generate for RESP\n",
    "    charges: iterable of floats (optional)\n",
    "        If you run this repeatedly, you can load in charges because doing\n",
    "        RESP over and over is pretty slow\n",
    "    resname: str (optional)\n",
    "        Residue name\n",
    "    charge: int\n",
    "        Overall amino acid charge\n",
    "    multiplicity: int\n",
    "        amino acid multiplicity\n",
    "    \"\"\"\n",
    "    # this function will be a bit slow because of antechamber and RESP\n",
    "    # first, cap unsatisfied valences with Hs\n",
    "    only_on_atoms = [atom.GetIdx() for atom in rdmol.GetAtoms()\n",
    "                     if atom.GetAtomMapNum() == 0]\n",
    "    rdmol = Chem.AddHs(rdmol, addCoords=True, onlyOnAtoms=only_on_atoms)\n",
    "    \n",
    "    # I use antechamber here because, well, amber\n",
    "    u, ommtop = run_antechamber(rdmol, name=resname)\n",
    "\n",
    "    # then we get RESP charges, where the adjacent amino acid atoms\n",
    "    # are constrained to the values given in the force field\n",
    "    if charges is None:\n",
    "        charges = run_resp(forcefield, ommtop, rdmol, executor=executor,\n",
    "                           n_conformers=n_conformers, resname=resname,\n",
    "                           charge=charge, multiplicity=multiplicity)\n",
    "        np.savetxt(\"charges.dat\", charges)\n",
    "\n",
    "    # then we create a new template because OpenMM hates it when\n",
    "    # we modify the old one?\n",
    "    template = simtk.openmm.app.forcefield.ForceField._TemplateData(resname)\n",
    "    mdares = u.select_atoms(f\"resname {resname}\").residues[0]\n",
    "    \n",
    "    # We copy all the atomtypes to a special new instance so that we\n",
    "    # can modify those values in the force field specifically,\n",
    "    # e.g. if we want to re-fit torsions\n",
    "    atomtype_mapping = {}\n",
    "    \n",
    "    for i, mdatom in enumerate(mdares.atoms):\n",
    "        # add it in as a new type\n",
    "        atomtype = f\"{resname}-{mdatom.name}\"\n",
    "        atomtype_mapping[atomtype] = mdatom.type\n",
    "        forcefield.registerAtomType({\"name\": atomtype, \"class\": atomtype, \"mass\": mdatom.mass})\n",
    "        \n",
    "        symbol = rdmol.GetAtomWithIdx(int(mdatom.index)).GetSymbol()\n",
    "        element = simtk.openmm.app.element.get_by_symbol(symbol)\n",
    "        tmpatom = forcefield._TemplateAtomData(mdatom.name, atomtype, element)\n",
    "        tmpatom.parameters[\"charge\"] = charges[i]\n",
    "        template.addAtom(tmpatom)\n",
    "    \n",
    "    # add in the bonds\n",
    "    decrement = mdares.atoms[0].index\n",
    "    resindices = mdares.atoms.indices - decrement\n",
    "    for res in ommtop.residues():\n",
    "        if res.name == template.name:\n",
    "            for bond in res.bonds():\n",
    "                i = bond.atom1.index - decrement\n",
    "                j = bond.atom2.index - decrement\n",
    "                if i in resindices and j in resindices:\n",
    "                    template.addBond(i, j)\n",
    "                else:\n",
    "                    if i in resindices:\n",
    "                        template.addExternalBond(i)\n",
    "                    else:\n",
    "                        template.addExternalBond(j)\n",
    "    \n",
    "    # register new atom types with copies of old forces\n",
    "    register_new_atomtypes_from_copies_of_old(forcefield, atomtype_mapping)\n",
    "    \n",
    "    forcefield.registerResidueTemplate(template)\n",
    "    return template\n"
   ]
  },
  {
   "cell_type": "code",
   "execution_count": 17,
   "id": "00ca93c4",
   "metadata": {
    "ExecuteTime": {
     "end_time": "2021-05-13T14:24:54.798815Z",
     "start_time": "2021-05-13T14:24:54.785817Z"
    }
   },
   "outputs": [],
   "source": [
    "def add_to(default, key, value):\n",
    "    \"\"\"Helper function to add to a defaultdict\"\"\"\n",
    "    existing = default[key]\n",
    "    if isinstance(existing, set):\n",
    "        default[key].add(value)\n",
    "    else:\n",
    "        default[key].append(value)\n",
    "\n",
    "def add_new_combinations(force, foratomtype,\n",
    "                         old_to_new, n_types=2,\n",
    "                         parameters=[],\n",
    "                         index_atomtypes=[0, 1]):\n",
    "    \"\"\"Helper function to add new forces to an openmm force field\"\"\"\n",
    "    attrs = [f\"types{i+1}\" for i in range(n_types)]\n",
    "    matches = set()\n",
    "    for oldtype in old_to_new:\n",
    "        matches |= set(foratomtype[oldtype])\n",
    "    \n",
    "    for i in matches:\n",
    "        oldtypes = [getattr(force, attr)[i][0] for attr in attrs]\n",
    "        newtypes = [old_to_new.get(old, [old]) for old in oldtypes]\n",
    "        combinations = itertools.product(*newtypes)\n",
    "        for group in combinations:\n",
    "            index = len(force.types1)\n",
    "            for j, (typeattr, newtype) in enumerate(zip(attrs, group)):\n",
    "                if j in index_atomtypes:\n",
    "                    add_to(foratomtype, newtype, index)\n",
    "                getattr(force, typeattr).append([newtype])\n",
    "            for param in parameters:\n",
    "                param.append(param[i])\n",
    "        \n",
    "\n",
    "def register_new_atomtypes_from_copies_of_old(forcefield, atomtype_mapping):\n",
    "    \"\"\"Basically we just copy the force field entries for the old atomtypes\n",
    "    and add them for the new ones too. Makes it easier to modify parameters\n",
    "    for just this new amino acid down the line.\n",
    "    \n",
    "    The copying is done in-place.\n",
    "    \"\"\"\n",
    "    old_to_new = defaultdict(list)\n",
    "    for k, v in atomtype_mapping.items():\n",
    "        old_to_new[v].append(k)\n",
    "    for force in forcefield._forces:\n",
    "        if isinstance(force, simtk.openmm.app.forcefield.HarmonicBondGenerator):\n",
    "            add_new_combinations(force, force.bondsForAtomType,\n",
    "                                 old_to_new, n_types=2,\n",
    "                                 parameters=[force.k, force.length],\n",
    "                                 index_atomtypes=[0, 1])\n",
    "        elif isinstance(force, simtk.openmm.app.forcefield.HarmonicAngleGenerator):\n",
    "            add_new_combinations(force, force.anglesForAtom2Type,\n",
    "                                 old_to_new, n_types=3,\n",
    "                                 parameters=[force.k, force.angle],\n",
    "                                 index_atomtypes=[1])\n",
    "        elif isinstance(force, simtk.openmm.app.forcefield.PeriodicTorsionGenerator):\n",
    "            matches = set()\n",
    "            for oldtype in old_to_new:\n",
    "                matches |= force.propersForAtomType[oldtype]\n",
    "            for i in matches:\n",
    "                oldtypes = [force.proper[i].types2[0], force.proper[i].types3[0]]\n",
    "                newtypes = [old_to_new.get(old, [old]) for old in oldtypes]\n",
    "                combinations = itertools.product(*newtypes)\n",
    "                for group in combinations:\n",
    "                    index = len(force.proper)\n",
    "                    copied = copy.deepcopy(force.proper[i])\n",
    "                    copied.types2 = [group[0]]\n",
    "                    copied.types3 = [group[1]]\n",
    "                    force.propersForAtomType[group[0]].add(index)\n",
    "                    force.propersForAtomType[group[1]].add(index)\n",
    "                    force.proper.append(copied)\n",
    "                \n",
    "        elif isinstance(force, simtk.openmm.app.forcefield.NonbondedGenerator):\n",
    "            for newtype, oldtype in atomtype_mapping.items():\n",
    "                for attr in [\"paramsForType\", \"extraParamsForType\"]:\n",
    "                    dct = getattr(force.params, attr)\n",
    "                    if oldtype in dct:\n",
    "                        dct[newtype] = dct[oldtype]\n",
    "            "
   ]
  },
  {
   "cell_type": "code",
   "execution_count": 18,
   "id": "af0cb4cb",
   "metadata": {
    "ExecuteTime": {
     "end_time": "2021-05-13T14:24:54.810719Z",
     "start_time": "2021-05-13T14:24:54.800451Z"
    }
   },
   "outputs": [
    {
     "data": {
      "image/png": "[encoded data removed]",
      "text/plain": [
       "<rdkit.Chem.rdchem.Mol at 0x7fa5bdf6b030>"
      ]
     },
     "execution_count": 18,
     "metadata": {},
     "output_type": "execute_result"
    }
   ],
   "source": [
    "fragmented"
   ]
  },
  {
   "cell_type": "code",
   "execution_count": 19,
   "id": "47b929ab",
   "metadata": {
    "ExecuteTime": {
     "end_time": "2021-05-13T14:24:55.602316Z",
     "start_time": "2021-05-13T14:24:54.934744Z"
    },
    "scrolled": false
   },
   "outputs": [
    {
     "name": "stdout",
     "output_type": "stream",
     "text": [
      "Running antechamber\n"
     ]
    },
    {
     "data": {
      "text/plain": [
       "<simtk.openmm.app.forcefield.ForceField._TemplateData at 0x7fa5a7372610>"
      ]
     },
     "execution_count": 19,
     "metadata": {},
     "output_type": "execute_result"
    }
   ],
   "source": [
    "pdb = PDBFile('ubq_aha.pdb')\n",
    "forcefield = ForceField('amber14-all.xml', 'amber14/tip3pfb.xml', \"gaff-2.11.xml\")\n",
    "charges = np.loadtxt(\"charges.dat\")  # from when I ran add_residue_template earlier\n",
    "# charges = None\n",
    "add_residue_template(fragmented, forcefield, charges=charges, resname=\"AHA\")"
   ]
  },
  {
   "cell_type": "code",
   "execution_count": 20,
   "id": "b67666f9",
   "metadata": {
    "ExecuteTime": {
     "end_time": "2021-05-13T14:24:58.732590Z",
     "start_time": "2021-05-13T14:24:58.645672Z"
    }
   },
   "outputs": [],
   "source": [
    "system = forcefield.createSystem(pdb.topology, nonbondedMethod=PME,\n",
    "                                 nonbondedCutoff=1*nanometer, constraints=HBonds)"
   ]
  }
 ],
 "metadata": {
  "kernelspec": {
   "display_name": "Python (ncaa-openmm)",
   "language": "python",
   "name": "ncaa-openmm"
  },
  "language_info": {
   "codemirror_mode": {
    "name": "ipython",
    "version": 3
   },
   "file_extension": ".py",
   "mimetype": "text/x-python",
   "name": "python",
   "nbconvert_exporter": "python",
   "pygments_lexer": "ipython3",
   "version": "3.7.10"
  },
  "toc": {
   "base_numbering": 1,
   "nav_menu": {},
   "number_sections": true,
   "sideBar": true,
   "skip_h1_title": true,
   "title_cell": "Table of Contents",
   "title_sidebar": "Contents",
   "toc_cell": false,
   "toc_position": {},
   "toc_section_display": true,
   "toc_window_display": true
  }
 },
 "nbformat": 4,
 "nbformat_minor": 5
}
