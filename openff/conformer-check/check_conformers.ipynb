{
 "cells": [
  {
   "cell_type": "code",
   "execution_count": 2,
   "id": "22f551b0",
   "metadata": {},
   "outputs": [],
   "source": [
    "import glob\n",
    "import numpy as np\n",
    "from MDAnalysis.analysis import rms"
   ]
  },
  {
   "cell_type": "markdown",
   "id": "08858d1f",
   "metadata": {},
   "source": [
    "## Straight RMSD"
   ]
  },
  {
   "cell_type": "code",
   "execution_count": 21,
   "id": "213271bf",
   "metadata": {},
   "outputs": [],
   "source": [
    "def read_first_mol(i=1):\n",
    "    molname = f\"conformers/mol{i:04d}\"\n",
    "    rdname = f\"{molname}*_rd.npy\"\n",
    "    oename = f\"{molname}*_oe.npy\"\n",
    "    \n",
    "    rdconfs = []\n",
    "    oeconfs = []\n",
    "    \n",
    "    for file in sorted(glob.glob(rdname)):\n",
    "        rdconf = np.load(file)\n",
    "        rdconfs.append(rdconf[0])\n",
    "        \n",
    "    for file in sorted(glob.glob(oename)):\n",
    "        oeconf = np.load(file)\n",
    "        oeconfs.append(oeconf[0])\n",
    "        \n",
    "    toolkits = [\"RDKit\"] * len(rdconfs) + [\"OpenEye\"] * len(oeconfs)\n",
    "        \n",
    "    confs = np.concatenate([rdconfs, oeconfs])\n",
    "    \n",
    "    rmsds = np.zeros((len(confs), len(confs)))\n",
    "    for i, iconf in enumerate(confs):\n",
    "        for j, jconf in enumerate(confs[i + 1:], i + 1):\n",
    "            rmsds[i, j] = rmsds[j, i] = rms.rmsd(iconf, jconf, superposition=True)\n",
    "    return rmsds, toolkits"
   ]
  },
  {
   "cell_type": "code",
   "execution_count": 17,
   "id": "d6ab3a45",
   "metadata": {},
   "outputs": [],
   "source": [
    "def read_mol(i=1):\n",
    "    molname = f\"conformers/mol{i:04d}\"\n",
    "    rdname = f\"{molname}*_rd.npy\"\n",
    "    oename = f\"{molname}*_oe.npy\"\n",
    "    \n",
    "    rdconfs = []\n",
    "    oeconfs = []\n",
    "    orders = []\n",
    "    \n",
    "    for file in sorted(glob.glob(rdname)):\n",
    "        rdconf = np.load(file)\n",
    "        rdconfs.append(rdconf)\n",
    "        i = int(file.split(\"_m\")[1].split(\"_\")[0])\n",
    "        orders.extend([i] * len(rdconf))\n",
    "        \n",
    "    toolkits = [\"RDKit\"] * len(orders)\n",
    "        \n",
    "    for file in sorted(glob.glob(oename)):\n",
    "        oeconf = np.load(file)\n",
    "        oeconfs.append(oeconf)\n",
    "        i = int(file.split(\"_m\")[1].split(\"_\")[0])\n",
    "        orders.extend([i] * len(oeconf))\n",
    "        toolkits.extend([\"OpenEye\"] * len(oeconf))\n",
    "        \n",
    "    all_rdconfs = np.concatenate(rdconfs)\n",
    "    all_oeconfs = np.concatenate(oeconfs)\n",
    "    confs = np.concatenate([all_rdconfs, all_oeconfs])\n",
    "    \n",
    "    rmsds = np.zeros((len(confs), len(confs)))\n",
    "    for i, iconf in enumerate(confs):\n",
    "        for j, jconf in enumerate(confs[i + 1:], i + 1):\n",
    "            rmsds[i, j] = rmsds[j, i] = rms.rmsd(iconf, jconf, superposition=True)\n",
    "    return rmsds, orders, toolkits"
   ]
  },
  {
   "cell_type": "code",
   "execution_count": 18,
   "id": "587df11e",
   "metadata": {},
   "outputs": [],
   "source": [
    "rmsd_1, orders_1, toolkits_1 = read_mol()"
   ]
  },
  {
   "cell_type": "code",
   "execution_count": 22,
   "id": "8111e255",
   "metadata": {},
   "outputs": [],
   "source": [
    "frmsd_1, ftoolkits_1 = read_first_mol(1)"
   ]
  },
  {
   "cell_type": "code",
   "execution_count": 14,
   "id": "f781be8c",
   "metadata": {},
   "outputs": [],
   "source": [
    "import seaborn as sns\n",
    "from matplotlib import pyplot as plt\n",
    "%matplotlib inline"
   ]
  },
  {
   "cell_type": "code",
   "execution_count": 32,
   "id": "e816d35b",
   "metadata": {},
   "outputs": [],
   "source": [
    "xi, xj = np.where(np.array(ftoolkits_1) == \"RDKit\")[0][[0, -1]]"
   ]
  },
  {
   "cell_type": "code",
   "execution_count": 76,
   "id": "2b0d2195",
   "metadata": {
    "scrolled": false
   },
   "outputs": [
    {
     "data": {
      "text/plain": [
       "<matplotlib.collections.LineCollection at 0x16d286a60>"
      ]
     },
     "execution_count": 76,
     "metadata": {},
     "output_type": "execute_result"
    },
    {
     "data": {
      "image/png": "[encoded data removed]",
      "text/plain": [
       "<Figure size 576x432 with 2 Axes>"
      ]
     },
     "metadata": {
      "needs_background": "light"
     },
     "output_type": "display_data"
    }
   ],
   "source": [
    "# fig, (ax, ax2) = plt.subplots(ncols=2, figsize=(16, 6))\n",
    "fig, ax = plt.subplots(figsize=(8, 6))\n",
    "\n",
    "sns.heatmap(frmsd_1, ax=ax, square=True, cbar_kws={\"label\": \"RMSD (Å)\"})\n",
    "XJ = len(frmsd_1)\n",
    "tickrange = [int((xj - xi)/2), int(xj + (XJ - xj)/2)]\n",
    "ax.set_yticks(tickrange)\n",
    "ax.set_xticks(tickrange)\n",
    "ax.set_yticklabels([\"RDKit\", \"OpenEye\"], fontsize=12, va=\"center\")\n",
    "ax.set_xticklabels([\"RDKit\", \"OpenEye\"], fontsize=12, va=\"center\")\n",
    "ax.vlines(x=-0.2, ymin=xi, ymax=xj, lw=8, color=\"gold\")\n",
    "ax.vlines(x=-0.2, ymin=xj, ymax=XJ, lw=8, color=\"blue\")\n",
    "ax.vlines(x=XJ+0.2, ymin=xi, ymax=xj, lw=8, color=\"gold\")\n",
    "ax.vlines(x=XJ+0.2, ymin=xj, ymax=XJ, lw=8, color=\"blue\")\n",
    "ax.hlines(y=-0.2, xmin=xi, xmax=xj, lw=8, color=\"gold\")\n",
    "ax.hlines(y=-0.2, xmin=xj, xmax=XJ, lw=8, color=\"blue\")\n",
    "ax.hlines(y=XJ+0.2, xmin=xi, xmax=xj, lw=8, color=\"gold\")\n",
    "ax.hlines(y=XJ+0.2, xmin=xj, xmax=XJ, lw=8, color=\"blue\")\n",
    "\n",
    "# plt.tight_layout()\n",
    "# plt.savefig(\"compare_first_conformer_rd_vs_oe_mol1.png\", dpi=300)"
   ]
  },
  {
   "cell_type": "code",
   "execution_count": 77,
   "id": "31316f39",
   "metadata": {},
   "outputs": [],
   "source": [
    "from openff.toolkit.topology import Molecule"
   ]
  },
  {
   "cell_type": "code",
   "execution_count": 78,
   "id": "8f8786b4",
   "metadata": {},
   "outputs": [
    {
     "data": {
      "application/vnd.jupyter.widget-view+json": {
       "model_id": "290b4fe88865485da3c8e0e61754b9ef",
       "version_major": 2,
       "version_minor": 0
      },
      "text/plain": []
     },
     "metadata": {},
     "output_type": "display_data"
    },
    {
     "data": {
      "image/png": "[encoded data removed]",
      "text/plain": [
       "<rdkit.Chem.rdchem.Mol at 0x1711611d0>"
      ]
     },
     "metadata": {},
     "output_type": "display_data"
    }
   ],
   "source": [
    "Molecule.from_smiles(\"C#CCNC(=O)c1ccc2c(c1)CCCC2\")"
   ]
  },
  {
   "cell_type": "markdown",
   "id": "07993b85",
   "metadata": {},
   "source": [
    "## Internal RMSDS"
   ]
  },
  {
   "cell_type": "code",
   "execution_count": 79,
   "id": "a9074396",
   "metadata": {},
   "outputs": [
    {
     "ename": "NameError",
     "evalue": "name 'Dict' is not defined",
     "output_type": "error",
     "traceback": [
      "\u001b[0;31m---------------------------------------------------------------------------\u001b[0m",
      "\u001b[0;31mNameError\u001b[0m                                 Traceback (most recent call last)",
      "\u001b[0;32m/var/folders/rv/j6lbln6j0kvb5svxj8wflc400000gn/T/ipykernel_73255/1571784036.py\u001b[0m in \u001b[0;36m<module>\u001b[0;34m\u001b[0m\n\u001b[1;32m     24\u001b[0m     \u001b[0mqm_conformer\u001b[0m\u001b[0;34m:\u001b[0m \u001b[0munit\u001b[0m\u001b[0;34m.\u001b[0m\u001b[0mQuantity\u001b[0m\u001b[0;34m,\u001b[0m\u001b[0;34m\u001b[0m\u001b[0;34m\u001b[0m\u001b[0m\n\u001b[1;32m     25\u001b[0m     \u001b[0mmm_conformer\u001b[0m\u001b[0;34m:\u001b[0m \u001b[0munit\u001b[0m\u001b[0;34m.\u001b[0m\u001b[0mQuantity\u001b[0m\u001b[0;34m,\u001b[0m\u001b[0;34m\u001b[0m\u001b[0;34m\u001b[0m\u001b[0m\n\u001b[0;32m---> 26\u001b[0;31m ) -> Dict[str, float]:\n\u001b[0m\u001b[1;32m     27\u001b[0m \u001b[0;34m\u001b[0m\u001b[0m\n\u001b[1;32m     28\u001b[0m     \u001b[0mqm_conformer\u001b[0m \u001b[0;34m=\u001b[0m \u001b[0mqm_conformer\u001b[0m\u001b[0;34m.\u001b[0m\u001b[0mvalue_in_unit\u001b[0m\u001b[0;34m(\u001b[0m\u001b[0munit\u001b[0m\u001b[0;34m.\u001b[0m\u001b[0mangstrom\u001b[0m\u001b[0;34m)\u001b[0m\u001b[0;34m\u001b[0m\u001b[0;34m\u001b[0m\u001b[0m\n",
      "\u001b[0;31mNameError\u001b[0m: name 'Dict' is not defined"
     ]
    }
   ],
   "source": [
    "import numpy as np\n",
    "import openeye.oechem as oechem\n",
    "import pandas\n",
    "from geometric.internal import (\n",
    "    Angle,\n",
    "    Dihedral,\n",
    "    Distance,\n",
    "    OutOfPlane,\n",
    "    PrimitiveInternalCoordinates,\n",
    ")\n",
    "from geometric.molecule import Molecule as GeometricMolecule\n",
    "from openff.toolkit.topology import Molecule\n",
    "from rdkit.Chem import TorsionFingerprints\n",
    "from simtk import unit\n",
    "\n",
    "# Define the RMSD calculation parameters\n",
    "RMSD_AUTOMORPH = True  # take into acct symmetry related transformations\n",
    "RMSD_HEAVY_ONLY = False  # do consider hydrogen atoms for automorphisms\n",
    "RMSD_OVERLAY = True  # find the lowest possible RMSD\n",
    "\n",
    "\n",
    "def _compute_internal_coordinate_rmsd(\n",
    "    molecule: Molecule,\n",
    "    qm_conformer: unit.Quantity,\n",
    "    mm_conformer: unit.Quantity,\n",
    ") -> Dict[str, float]:\n",
    "\n",
    "    qm_conformer = qm_conformer.value_in_unit(unit.angstrom)\n",
    "    mm_conformer = mm_conformer.value_in_unit(unit.angstrom)\n",
    "\n",
    "    geo_molecule = GeometricMolecule()\n",
    "    geo_molecule.Data = {\n",
    "        \"resname\": [\"UNK\"] * molecule.n_atoms,\n",
    "        \"resid\": [0] * molecule.n_atoms,\n",
    "        \"elem\": [atom.element.symbol for atom in molecule.atoms],\n",
    "        \"bonds\": [(bond.atom1_index, bond.atom2_index) for bond in molecule.bonds],\n",
    "        \"name\": molecule.name,\n",
    "        \"xyzs\": [qm_conformer, mm_conformer],\n",
    "    }\n",
    "\n",
    "    internal_coordinate_generator = PrimitiveInternalCoordinates(geo_molecule)\n",
    "\n",
    "    internal_coordinate_types = {\n",
    "        \"Bond\": Distance,\n",
    "        \"Angle\": Angle,\n",
    "        \"Dihedral\": Dihedral,\n",
    "        \"Improper\": OutOfPlane,\n",
    "    }\n",
    "\n",
    "    internal_coordinates = {\n",
    "        label: [\n",
    "            (\n",
    "                internal_coordinate.value(qm_conformer),\n",
    "                internal_coordinate.value(mm_conformer),\n",
    "            )\n",
    "            for internal_coordinate in internal_coordinate_generator.Internals\n",
    "            if isinstance(internal_coordinate, internal_coordinate_class)\n",
    "        ]\n",
    "        for label, internal_coordinate_class in internal_coordinate_types.items()\n",
    "    }\n",
    "\n",
    "    internal_coordinate_rmsd = {}\n",
    "\n",
    "    for ic_type, ic_values in internal_coordinates.items():\n",
    "\n",
    "        if len(ic_values) == 0:\n",
    "            continue\n",
    "\n",
    "        qm_values, mm_values = zip(*ic_values)\n",
    "\n",
    "        qm_values = np.array(qm_values)\n",
    "        mm_values = np.array(mm_values)\n",
    "\n",
    "        delta = qm_values - mm_values\n",
    "\n",
    "        rmsd = np.sqrt((delta * delta).mean())\n",
    "        internal_coordinate_rmsd[ic_type] = float(rmsd)\n",
    "\n",
    "    return internal_coordinate_rmsd\n"
   ]
  },
  {
   "cell_type": "code",
   "execution_count": null,
   "id": "c4781b06",
   "metadata": {},
   "outputs": [],
   "source": []
  }
 ],
 "metadata": {
  "kernelspec": {
   "display_name": "Python (polymetrizer)",
   "language": "python",
   "name": "polymetrizer"
  },
  "language_info": {
   "codemirror_mode": {
    "name": "ipython",
    "version": 3
   },
   "file_extension": ".py",
   "mimetype": "text/x-python",
   "name": "python",
   "nbconvert_exporter": "python",
   "pygments_lexer": "ipython3",
   "version": "3.9.6"
  },
  "toc": {
   "base_numbering": 1,
   "nav_menu": {},
   "number_sections": true,
   "sideBar": true,
   "skip_h1_title": true,
   "title_cell": "Table of Contents",
   "title_sidebar": "Contents",
   "toc_cell": false,
   "toc_position": {},
   "toc_section_display": true,
   "toc_window_display": false
  }
 },
 "nbformat": 4,
 "nbformat_minor": 5
}
