{
 "cells": [
  {
   "cell_type": "markdown",
   "id": "fa38f516",
   "metadata": {},
   "source": [
    "# Combined liquid property dataset"
   ]
  },
  {
   "cell_type": "markdown",
   "id": "f2b3f938",
   "metadata": {},
   "source": [
    "## Filenames"
   ]
  },
  {
   "cell_type": "code",
   "execution_count": 49,
   "id": "1882b5a3",
   "metadata": {},
   "outputs": [],
   "source": [
    "import os\n",
    "\n",
    "BIBFILE = \"data/00_physprop-benchmark-sources.bib\"\n",
    "RAW_JSON = \"data/01_raw_thermoml_dataset_from_sources.json\"\n",
    "RAW_CSV = \"data/01_raw_thermoml_dataset_from_sources.csv\"\n",
    "ENTRY_DIRNAME = \"data/01_raw_data_entries\"\n",
    "ENTRY_NAME = os.path.join(ENTRY_DIRNAME, \"entry_{:05d}.csv\")"
   ]
  },
  {
   "cell_type": "markdown",
   "id": "1c7e40f8",
   "metadata": {},
   "source": [
    "## Experimental Data"
   ]
  },
  {
   "cell_type": "markdown",
   "id": "8884b776",
   "metadata": {},
   "source": [
    "### Constants"
   ]
  },
  {
   "cell_type": "code",
   "execution_count": 2,
   "id": "2848f36c",
   "metadata": {},
   "outputs": [],
   "source": [
    "SMILES_TEST_SET = [\n",
    "    'CC#N',\n",
    "    'c1ccc(cc1)Cl',\n",
    "    'c1ccsc1',\n",
    "    'C(=O)O',\n",
    "    'C(Cl)(Cl)Cl',\n",
    "    'c1cc(cc(c1)Cl)Cl',\n",
    "    'c1cc(cc(c1)Br)Br',\n",
    "    'CCI',\n",
    "    'C1CCNCC1',\n",
    "    'CCOC(OCC)OCC',\n",
    "    'c1ccc(cc1)F',\n",
    "    'C(Br)Br',\n",
    "    'C(Cl)Br',\n",
    "    'CCOC(=O)CC(=O)C',\n",
    "    'CC(=O)CCC(=O)O',\n",
    "    'C(C(C(F)(F)F)(F)F)O',\n",
    "    'COc1cccc(c1)Br',\n",
    "    'C=CC#N',\n",
    "    'CNCCCN',\n",
    "    'CCn1ccnc1',\n",
    "    'CCCI',\n",
    "    'CCCCCCCCCCCCS',\n",
    "    'COc1ccccc1O',\n",
    "    'c1cc(cc(c1)I)F',\n",
    "    'c1cc(ccc1F)I',\n",
    "    'c1ccc2c(c1)ncs2',\n",
    "    'Cc1ccc2c(c1)OCO2',\n",
    "    'c1ccc(cc1)SCN=[N+]=[N-]',\n",
    "    'c1cscc1C#N',\n",
    "    'c1cc(sc1)C#N'\n",
    "]\n"
   ]
  },
  {
   "cell_type": "code",
   "execution_count": 3,
   "id": "62316a8d",
   "metadata": {},
   "outputs": [],
   "source": [
    "from openff.evaluator.datasets.thermoml import ThermoMLDataSet\n",
    "import pandas as pd"
   ]
  },
  {
   "cell_type": "markdown",
   "id": "b931f107",
   "metadata": {},
   "source": [
    "### Parsley benchmark set\n",
    "\n",
    "The DOIs are in `data/physprop-benchmark-sources.bib`."
   ]
  },
  {
   "cell_type": "code",
   "execution_count": 4,
   "id": "ad7089ce",
   "metadata": {},
   "outputs": [],
   "source": [
    "import re\n",
    "\n",
    "def read_dois_from_bib(bibfile=BIBFILE):\n",
    "    with open(bibfile, \"r\") as f:\n",
    "        contents = f.read()\n",
    "    dois = re.findall(\"doi[\\s]*=[\\s]*\\{([a-zA-Z0-9./]+)\\}\", contents)\n",
    "    return dois"
   ]
  },
  {
   "cell_type": "markdown",
   "id": "3e75f372",
   "metadata": {},
   "source": [
    "I read the DOIs with [a modified version of evaluator that skipped un-parseable molecules](https://github.com/openforcefield/openff-evaluator/issues/364), so I will save and load to/from JSON to avoid doing this again."
   ]
  },
  {
   "cell_type": "code",
   "execution_count": 10,
   "id": "d66b34a9",
   "metadata": {},
   "outputs": [],
   "source": [
    "# # uncomment this block to re-download the information\n",
    "# dois = read_dois_from_bib()\n",
    "# dataset = ThermoMLDataSet.from_doi(*dois)\n",
    "# dataset.json(RAW_JSON)\n",
    "\n",
    "dataset = ThermoMLDataSet.from_json(RAW_JSON)"
   ]
  },
  {
   "cell_type": "code",
   "execution_count": 45,
   "id": "46639646",
   "metadata": {},
   "outputs": [],
   "source": [
    "df = dataset.to_pandas()\n",
    "df.to_csv(RAW_CSV)"
   ]
  },
  {
   "cell_type": "code",
   "execution_count": 47,
   "id": "e4624018",
   "metadata": {},
   "outputs": [
    {
     "data": {
      "text/plain": [
       "16925"
      ]
     },
     "execution_count": 47,
     "metadata": {},
     "output_type": "execute_result"
    }
   ],
   "source": [
    "len(df)"
   ]
  },
  {
   "cell_type": "code",
   "execution_count": 57,
   "id": "d6e418db",
   "metadata": {},
   "outputs": [],
   "source": [
    "import os\n",
    "\n",
    "for i in range(len(df)):\n",
    "    filename = ENTRY_NAME.format(i+1)\n",
    "    df.iloc[i:i+1].to_csv(filename)"
   ]
  },
  {
   "cell_type": "markdown",
   "id": "136b814f",
   "metadata": {},
   "source": [
    "### RESP2\n",
    "\n",
    "> The program ForceBalance41 was used to optimize the LJ parameters for RESP1 charges and for RESP2 with values of δ from 0 to 1 in steps of 0.05. To simplify and speed the optimizations, we limited the number of different LJ types to five: C, N, and O, polar H, and apolar H. Polar hydrogens were defined by the following extended SMARTS pattern:[#1:1]-[#7,#8].Because each LJ type has two parameters, $r_{min-half}$ and $\\epsilon$, the optimizations were done in a ten-dimensional parameter space. Starting parameters were drawn from SMIRNOFF v1.0.7 (Supplementary Notes 1). Training was based on measured HOV and pure liquid densities of 15 molecules (Fig. 8a) with a variety of functional groups. The ForceBalance procedure was terminated when the step size for the mathematical parameters fell <0.01 or the objective function changed <1.0 between two iterations; further details are provided below in this section. The resulting parameters were tested against measured HOVs and densities for a separate set of 53 molecules (Fig. 8b), as well as the measured dielectric constants and HFE of a subset of these compounds. All experimental values for HOV were taken from ThermoML76. Densities were taken from ThermoML when available, and otherwise from PubChem77. Dielectric constants were taken from multiple sources78. HFE were taken from the FreeSolv database79. All values are summarized in Supplementary Tables 2 and 3."
   ]
  },
  {
   "cell_type": "markdown",
   "id": "24cecb16",
   "metadata": {},
   "source": [
    "## Evaluator"
   ]
  },
  {
   "cell_type": "code",
   "execution_count": 44,
   "id": "29aaefd5",
   "metadata": {},
   "outputs": [],
   "source": []
  },
  {
   "cell_type": "markdown",
   "id": "70729fe9",
   "metadata": {},
   "source": [
    "### Set up schema"
   ]
  },
  {
   "cell_type": "code",
   "execution_count": 28,
   "id": "8ad440a4",
   "metadata": {},
   "outputs": [],
   "source": [
    "from openff.evaluator.client import RequestOptions\n",
    "from openff.evaluator import unit\n",
    "from openff.evaluator.properties import (Density,\n",
    "                                         EnthalpyOfVaporization,\n",
    "                                         ExcessMolarVolume,\n",
    "                                         DielectricConstant,\n",
    "                                         EnthalpyOfMixing)"
   ]
  },
  {
   "cell_type": "code",
   "execution_count": 34,
   "id": "0e251570",
   "metadata": {},
   "outputs": [],
   "source": [
    "ABSOLUTE_TOLERANCES = {\n",
    "    Density: 0.45 * unit.kilogram * unit.meter ** -3,\n",
    "    DielectricConstant: 1.5 * unit.dimensionless,\n",
    "    EnthalpyOfVaporization: 0.65 * unit.kilojoule / unit.mole,\n",
    "    EnthalpyOfMixing: 0.02 * unit.kilojoule / unit.mole,\n",
    "    ExcessMolarVolume: 2e-8 * unit.meter ** 3 / unit.mole,\n",
    "}\n",
    "\n",
    "PROPERTIES = [Density, EnthalpyOfVaporization, ExcessMolarVolume, DielectricConstant, EnthalpyOfMixing,]\n",
    "\n",
    "estimation_options = RequestOptions()\n",
    "for prop in PROPERTIES:\n",
    "    schema = prop.default_simulation_schema(absolute_tolerance=ABSOLUTE_TOLERANCES[prop])\n",
    "    estimation_options.add_schema(\"SimulationLayer\", prop, schema)"
   ]
  },
  {
   "cell_type": "code",
   "execution_count": 35,
   "id": "ff612335",
   "metadata": {},
   "outputs": [],
   "source": [
    "from openff.evaluator.workflow import Workflow"
   ]
  },
  {
   "cell_type": "code",
   "execution_count": 42,
   "id": "d526d8c9",
   "metadata": {},
   "outputs": [
    {
     "data": {
      "text/plain": [
       "['__abstractmethods__',\n",
       " '__class__',\n",
       " '__delattr__',\n",
       " '__dict__',\n",
       " '__dir__',\n",
       " '__doc__',\n",
       " '__eq__',\n",
       " '__format__',\n",
       " '__ge__',\n",
       " '__getattribute__',\n",
       " '__getstate__',\n",
       " '__gt__',\n",
       " '__hash__',\n",
       " '__init__',\n",
       " '__init_subclass__',\n",
       " '__iter__',\n",
       " '__le__',\n",
       " '__len__',\n",
       " '__lt__',\n",
       " '__module__',\n",
       " '__ne__',\n",
       " '__new__',\n",
       " '__reduce__',\n",
       " '__reduce_ex__',\n",
       " '__repr__',\n",
       " '__setattr__',\n",
       " '__setstate__',\n",
       " '__sizeof__',\n",
       " '__slots__',\n",
       " '__str__',\n",
       " '__subclasshook__',\n",
       " '__weakref__',\n",
       " '_abc_impl',\n",
       " '_from_file',\n",
       " '_from_url',\n",
       " '_properties',\n",
       " 'add_properties',\n",
       " 'from_doi',\n",
       " 'from_file',\n",
       " 'from_json',\n",
       " 'from_pandas',\n",
       " 'from_url',\n",
       " 'from_xml',\n",
       " 'json',\n",
       " 'merge',\n",
       " 'parse_json',\n",
       " 'properties',\n",
       " 'properties_by_substance',\n",
       " 'properties_by_type',\n",
       " 'property_types',\n",
       " 'registered_properties',\n",
       " 'sources',\n",
       " 'substances',\n",
       " 'to_pandas',\n",
       " 'validate']"
      ]
     },
     "execution_count": 42,
     "metadata": {},
     "output_type": "execute_result"
    }
   ],
   "source": [
    "dir(dataset)"
   ]
  },
  {
   "cell_type": "code",
   "execution_count": 39,
   "id": "d470c068",
   "metadata": {},
   "outputs": [
    {
     "data": {
      "text/plain": [
       "{'Density': {'SimulationLayer': <openff.evaluator.layers.simulation.SimulationSchema at 0x166cd6970>},\n",
       " 'EnthalpyOfVaporization': {'SimulationLayer': <openff.evaluator.layers.simulation.SimulationSchema at 0x166910700>},\n",
       " 'ExcessMolarVolume': {'SimulationLayer': <openff.evaluator.layers.simulation.SimulationSchema at 0x166ec9fa0>},\n",
       " 'DielectricConstant': {'SimulationLayer': <openff.evaluator.layers.simulation.SimulationSchema at 0x166957f40>},\n",
       " 'EnthalpyOfMixing': {'SimulationLayer': <openff.evaluator.layers.simulation.SimulationSchema at 0x166d90100>}}"
      ]
     },
     "execution_count": 39,
     "metadata": {},
     "output_type": "execute_result"
    }
   ],
   "source": [
    "estimation_options.calculation_schemas"
   ]
  },
  {
   "cell_type": "code",
   "execution_count": 21,
   "id": "8f06d95d",
   "metadata": {},
   "outputs": [
    {
     "data": {
      "text/plain": [
       "['ReweightingLayer', 'SimulationLayer']"
      ]
     },
     "execution_count": 21,
     "metadata": {},
     "output_type": "execute_result"
    }
   ],
   "source": [
    "estimation_options.calculation_layers"
   ]
  },
  {
   "cell_type": "code",
   "execution_count": null,
   "id": "699ebe0b",
   "metadata": {},
   "outputs": [],
   "source": []
  }
 ],
 "metadata": {
  "kernelspec": {
   "display_name": "Python (polymetrizer)",
   "language": "python",
   "name": "polymetrizer"
  },
  "language_info": {
   "codemirror_mode": {
    "name": "ipython",
    "version": 3
   },
   "file_extension": ".py",
   "mimetype": "text/x-python",
   "name": "python",
   "nbconvert_exporter": "python",
   "pygments_lexer": "ipython3",
   "version": "3.9.6"
  },
  "toc": {
   "base_numbering": 1,
   "nav_menu": {},
   "number_sections": true,
   "sideBar": true,
   "skip_h1_title": true,
   "title_cell": "Table of Contents",
   "title_sidebar": "Contents",
   "toc_cell": false,
   "toc_position": {},
   "toc_section_display": true,
   "toc_window_display": true
  }
 },
 "nbformat": 4,
 "nbformat_minor": 5
}
